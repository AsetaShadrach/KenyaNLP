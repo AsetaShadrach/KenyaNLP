{
 "cells": [
  {
   "cell_type": "code",
   "execution_count": 1,
   "id": "e79630f8-dbbb-48f2-b262-c0a3165c749c",
   "metadata": {},
   "outputs": [],
   "source": [
    "# Necessary imports\n",
    "import numpy as np\n",
    "import pandas as pd\n",
    "pd.set_option(\"display.max_columns\", None)"
   ]
  },
  {
   "cell_type": "code",
   "execution_count": null,
   "id": "325d9bce-a6d4-432d-b018-80dbee710d41",
   "metadata": {},
   "outputs": [],
   "source": [
    "data = pd.read_csv(\"data/kenya\")"
   ]
  }
 ],
 "metadata": {
  "kernelspec": {
   "display_name": "Python 3",
   "language": "python",
   "name": "python3"
  },
  "language_info": {
   "codemirror_mode": {
    "name": "ipython",
    "version": 3
   },
   "file_extension": ".py",
   "mimetype": "text/x-python",
   "name": "python",
   "nbconvert_exporter": "python",
   "pygments_lexer": "ipython3",
   "version": "3.9.9"
  }
 },
 "nbformat": 4,
 "nbformat_minor": 5
}
